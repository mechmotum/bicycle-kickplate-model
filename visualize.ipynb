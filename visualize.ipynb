{
 "cells": [
  {
   "cell_type": "code",
   "execution_count": null,
   "id": "4dba99d2",
   "metadata": {},
   "outputs": [],
   "source": [
    "run viz.py"
   ]
  },
  {
   "cell_type": "code",
   "execution_count": null,
   "id": "9d897ff1",
   "metadata": {},
   "outputs": [],
   "source": [
    "scene.display_jupyter(window_size=(1800, 600), axes_arrow_length=20.0)"
   ]
  }
 ],
 "metadata": {
  "kernelspec": {
   "display_name": "Python 3 (ipykernel)",
   "language": "python",
   "name": "python3"
  },
  "language_info": {
   "codemirror_mode": {
    "name": "ipython",
    "version": 3
   },
   "file_extension": ".py",
   "mimetype": "text/x-python",
   "name": "python",
   "nbconvert_exporter": "python",
   "pygments_lexer": "ipython3",
   "version": "3.12.4"
  }
 },
 "nbformat": 4,
 "nbformat_minor": 5
}
